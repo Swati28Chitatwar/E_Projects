{
 "cells": [
  {
   "cell_type": "code",
   "execution_count": 5,
   "metadata": {},
   "outputs": [],
   "source": [
    "import pandas as pd\n",
    "import numpy as np\n",
    "import matplotlib.pyplot as plt\n",
    "import seaborn as sns\n",
    "import warnings\n",
    "warnings.filterwarnings('ignore')\n",
    "from sklearn.metrics import accuracy_score,classification_report,confusion_matrix,roc_auc_score,roc_curve\n",
    "from sklearn.linear_model import LogisticRegression\n",
    "from sklearn.naive_bayes import GaussianNB\n",
    "from sklearn.neighbors import KNeighborsClassifier\n",
    "from sklearn.svm import SVC\n",
    "from sklearn.tree import DecisionTreeClassifier\n",
    "from sklearn.ensemble import AdaBoostClassifier,gradient_boosting\n",
    "from sklearn.preprocessing import LabelEncoder,StandardScaler\n",
    "from sklearn.model_selection import cross_val_score,train_test_split, GridSearchCV\n",
    "from sklearn.decomposition import PCA\n",
    "from scipy.stats import zscore"
   ]
  },
  {
   "cell_type": "code",
   "execution_count": 6,
   "metadata": {
    "scrolled": true
   },
   "outputs": [
    {
     "data": {
      "text/html": [
       "<div>\n",
       "<style scoped>\n",
       "    .dataframe tbody tr th:only-of-type {\n",
       "        vertical-align: middle;\n",
       "    }\n",
       "\n",
       "    .dataframe tbody tr th {\n",
       "        vertical-align: top;\n",
       "    }\n",
       "\n",
       "    .dataframe thead th {\n",
       "        text-align: right;\n",
       "    }\n",
       "</style>\n",
       "<table border=\"1\" class=\"dataframe\">\n",
       "  <thead>\n",
       "    <tr style=\"text-align: right;\">\n",
       "      <th></th>\n",
       "      <th>Unnamed: 0</th>\n",
       "      <th>Date</th>\n",
       "      <th>AveragePrice</th>\n",
       "      <th>Total Volume</th>\n",
       "      <th>4046</th>\n",
       "      <th>4225</th>\n",
       "      <th>4770</th>\n",
       "      <th>Total Bags</th>\n",
       "      <th>Small Bags</th>\n",
       "      <th>Large Bags</th>\n",
       "      <th>XLarge Bags</th>\n",
       "      <th>type</th>\n",
       "      <th>year</th>\n",
       "      <th>region</th>\n",
       "    </tr>\n",
       "  </thead>\n",
       "  <tbody>\n",
       "    <tr>\n",
       "      <th>0</th>\n",
       "      <td>0</td>\n",
       "      <td>2015-12-27</td>\n",
       "      <td>1.33</td>\n",
       "      <td>64236.62</td>\n",
       "      <td>1036.74</td>\n",
       "      <td>54454.85</td>\n",
       "      <td>48.16</td>\n",
       "      <td>8696.87</td>\n",
       "      <td>8603.62</td>\n",
       "      <td>93.25</td>\n",
       "      <td>0.0</td>\n",
       "      <td>conventional</td>\n",
       "      <td>2015</td>\n",
       "      <td>Albany</td>\n",
       "    </tr>\n",
       "    <tr>\n",
       "      <th>1</th>\n",
       "      <td>1</td>\n",
       "      <td>2015-12-20</td>\n",
       "      <td>1.35</td>\n",
       "      <td>54876.98</td>\n",
       "      <td>674.28</td>\n",
       "      <td>44638.81</td>\n",
       "      <td>58.33</td>\n",
       "      <td>9505.56</td>\n",
       "      <td>9408.07</td>\n",
       "      <td>97.49</td>\n",
       "      <td>0.0</td>\n",
       "      <td>conventional</td>\n",
       "      <td>2015</td>\n",
       "      <td>Albany</td>\n",
       "    </tr>\n",
       "    <tr>\n",
       "      <th>2</th>\n",
       "      <td>2</td>\n",
       "      <td>2015-12-13</td>\n",
       "      <td>0.93</td>\n",
       "      <td>118220.22</td>\n",
       "      <td>794.70</td>\n",
       "      <td>109149.67</td>\n",
       "      <td>130.50</td>\n",
       "      <td>8145.35</td>\n",
       "      <td>8042.21</td>\n",
       "      <td>103.14</td>\n",
       "      <td>0.0</td>\n",
       "      <td>conventional</td>\n",
       "      <td>2015</td>\n",
       "      <td>Albany</td>\n",
       "    </tr>\n",
       "    <tr>\n",
       "      <th>3</th>\n",
       "      <td>3</td>\n",
       "      <td>2015-12-06</td>\n",
       "      <td>1.08</td>\n",
       "      <td>78992.15</td>\n",
       "      <td>1132.00</td>\n",
       "      <td>71976.41</td>\n",
       "      <td>72.58</td>\n",
       "      <td>5811.16</td>\n",
       "      <td>5677.40</td>\n",
       "      <td>133.76</td>\n",
       "      <td>0.0</td>\n",
       "      <td>conventional</td>\n",
       "      <td>2015</td>\n",
       "      <td>Albany</td>\n",
       "    </tr>\n",
       "    <tr>\n",
       "      <th>4</th>\n",
       "      <td>4</td>\n",
       "      <td>2015-11-29</td>\n",
       "      <td>1.28</td>\n",
       "      <td>51039.60</td>\n",
       "      <td>941.48</td>\n",
       "      <td>43838.39</td>\n",
       "      <td>75.78</td>\n",
       "      <td>6183.95</td>\n",
       "      <td>5986.26</td>\n",
       "      <td>197.69</td>\n",
       "      <td>0.0</td>\n",
       "      <td>conventional</td>\n",
       "      <td>2015</td>\n",
       "      <td>Albany</td>\n",
       "    </tr>\n",
       "  </tbody>\n",
       "</table>\n",
       "</div>"
      ],
      "text/plain": [
       "   Unnamed: 0        Date  AveragePrice  Total Volume     4046       4225  \\\n",
       "0           0  2015-12-27          1.33      64236.62  1036.74   54454.85   \n",
       "1           1  2015-12-20          1.35      54876.98   674.28   44638.81   \n",
       "2           2  2015-12-13          0.93     118220.22   794.70  109149.67   \n",
       "3           3  2015-12-06          1.08      78992.15  1132.00   71976.41   \n",
       "4           4  2015-11-29          1.28      51039.60   941.48   43838.39   \n",
       "\n",
       "     4770  Total Bags  Small Bags  Large Bags  XLarge Bags          type  \\\n",
       "0   48.16     8696.87     8603.62       93.25          0.0  conventional   \n",
       "1   58.33     9505.56     9408.07       97.49          0.0  conventional   \n",
       "2  130.50     8145.35     8042.21      103.14          0.0  conventional   \n",
       "3   72.58     5811.16     5677.40      133.76          0.0  conventional   \n",
       "4   75.78     6183.95     5986.26      197.69          0.0  conventional   \n",
       "\n",
       "   year  region  \n",
       "0  2015  Albany  \n",
       "1  2015  Albany  \n",
       "2  2015  Albany  \n",
       "3  2015  Albany  \n",
       "4  2015  Albany  "
      ]
     },
     "execution_count": 6,
     "metadata": {},
     "output_type": "execute_result"
    }
   ],
   "source": [
    "df = pd.read_csv(\"avocado.csv\")\n",
    "df.head()"
   ]
  },
  {
   "cell_type": "markdown",
   "metadata": {},
   "source": [
    "After watching the dataset we get that the column \"Unnamed: 0\" is nothing both the simple id which is of no use so we will drop that column and it will not affect the dataset as well."
   ]
  },
  {
   "cell_type": "code",
   "execution_count": 7,
   "metadata": {},
   "outputs": [],
   "source": [
    "df.drop(\"Unnamed: 0\",inplace=True,axis=1)"
   ]
  },
  {
   "cell_type": "code",
   "execution_count": 8,
   "metadata": {},
   "outputs": [
    {
     "data": {
      "text/html": [
       "<div>\n",
       "<style scoped>\n",
       "    .dataframe tbody tr th:only-of-type {\n",
       "        vertical-align: middle;\n",
       "    }\n",
       "\n",
       "    .dataframe tbody tr th {\n",
       "        vertical-align: top;\n",
       "    }\n",
       "\n",
       "    .dataframe thead th {\n",
       "        text-align: right;\n",
       "    }\n",
       "</style>\n",
       "<table border=\"1\" class=\"dataframe\">\n",
       "  <thead>\n",
       "    <tr style=\"text-align: right;\">\n",
       "      <th></th>\n",
       "      <th>Date</th>\n",
       "      <th>AveragePrice</th>\n",
       "      <th>Total Volume</th>\n",
       "      <th>4046</th>\n",
       "      <th>4225</th>\n",
       "      <th>4770</th>\n",
       "      <th>Total Bags</th>\n",
       "      <th>Small Bags</th>\n",
       "      <th>Large Bags</th>\n",
       "      <th>XLarge Bags</th>\n",
       "      <th>type</th>\n",
       "      <th>year</th>\n",
       "      <th>region</th>\n",
       "    </tr>\n",
       "  </thead>\n",
       "  <tbody>\n",
       "    <tr>\n",
       "      <th>0</th>\n",
       "      <td>2015-12-27</td>\n",
       "      <td>1.33</td>\n",
       "      <td>64236.62</td>\n",
       "      <td>1036.74</td>\n",
       "      <td>54454.85</td>\n",
       "      <td>48.16</td>\n",
       "      <td>8696.87</td>\n",
       "      <td>8603.62</td>\n",
       "      <td>93.25</td>\n",
       "      <td>0.0</td>\n",
       "      <td>conventional</td>\n",
       "      <td>2015</td>\n",
       "      <td>Albany</td>\n",
       "    </tr>\n",
       "    <tr>\n",
       "      <th>1</th>\n",
       "      <td>2015-12-20</td>\n",
       "      <td>1.35</td>\n",
       "      <td>54876.98</td>\n",
       "      <td>674.28</td>\n",
       "      <td>44638.81</td>\n",
       "      <td>58.33</td>\n",
       "      <td>9505.56</td>\n",
       "      <td>9408.07</td>\n",
       "      <td>97.49</td>\n",
       "      <td>0.0</td>\n",
       "      <td>conventional</td>\n",
       "      <td>2015</td>\n",
       "      <td>Albany</td>\n",
       "    </tr>\n",
       "    <tr>\n",
       "      <th>2</th>\n",
       "      <td>2015-12-13</td>\n",
       "      <td>0.93</td>\n",
       "      <td>118220.22</td>\n",
       "      <td>794.70</td>\n",
       "      <td>109149.67</td>\n",
       "      <td>130.50</td>\n",
       "      <td>8145.35</td>\n",
       "      <td>8042.21</td>\n",
       "      <td>103.14</td>\n",
       "      <td>0.0</td>\n",
       "      <td>conventional</td>\n",
       "      <td>2015</td>\n",
       "      <td>Albany</td>\n",
       "    </tr>\n",
       "    <tr>\n",
       "      <th>3</th>\n",
       "      <td>2015-12-06</td>\n",
       "      <td>1.08</td>\n",
       "      <td>78992.15</td>\n",
       "      <td>1132.00</td>\n",
       "      <td>71976.41</td>\n",
       "      <td>72.58</td>\n",
       "      <td>5811.16</td>\n",
       "      <td>5677.40</td>\n",
       "      <td>133.76</td>\n",
       "      <td>0.0</td>\n",
       "      <td>conventional</td>\n",
       "      <td>2015</td>\n",
       "      <td>Albany</td>\n",
       "    </tr>\n",
       "    <tr>\n",
       "      <th>4</th>\n",
       "      <td>2015-11-29</td>\n",
       "      <td>1.28</td>\n",
       "      <td>51039.60</td>\n",
       "      <td>941.48</td>\n",
       "      <td>43838.39</td>\n",
       "      <td>75.78</td>\n",
       "      <td>6183.95</td>\n",
       "      <td>5986.26</td>\n",
       "      <td>197.69</td>\n",
       "      <td>0.0</td>\n",
       "      <td>conventional</td>\n",
       "      <td>2015</td>\n",
       "      <td>Albany</td>\n",
       "    </tr>\n",
       "  </tbody>\n",
       "</table>\n",
       "</div>"
      ],
      "text/plain": [
       "         Date  AveragePrice  Total Volume     4046       4225    4770  \\\n",
       "0  2015-12-27          1.33      64236.62  1036.74   54454.85   48.16   \n",
       "1  2015-12-20          1.35      54876.98   674.28   44638.81   58.33   \n",
       "2  2015-12-13          0.93     118220.22   794.70  109149.67  130.50   \n",
       "3  2015-12-06          1.08      78992.15  1132.00   71976.41   72.58   \n",
       "4  2015-11-29          1.28      51039.60   941.48   43838.39   75.78   \n",
       "\n",
       "   Total Bags  Small Bags  Large Bags  XLarge Bags          type  year  region  \n",
       "0     8696.87     8603.62       93.25          0.0  conventional  2015  Albany  \n",
       "1     9505.56     9408.07       97.49          0.0  conventional  2015  Albany  \n",
       "2     8145.35     8042.21      103.14          0.0  conventional  2015  Albany  \n",
       "3     5811.16     5677.40      133.76          0.0  conventional  2015  Albany  \n",
       "4     6183.95     5986.26      197.69          0.0  conventional  2015  Albany  "
      ]
     },
     "execution_count": 8,
     "metadata": {},
     "output_type": "execute_result"
    }
   ],
   "source": [
    "df.head()"
   ]
  },
  {
   "cell_type": "markdown",
   "metadata": {},
   "source": [
    "Now we will check the total rows and columns of the dataset."
   ]
  },
  {
   "cell_type": "code",
   "execution_count": 9,
   "metadata": {},
   "outputs": [
    {
     "data": {
      "text/plain": [
       "(18249, 13)"
      ]
     },
     "execution_count": 9,
     "metadata": {},
     "output_type": "execute_result"
    }
   ],
   "source": [
    "df.shape"
   ]
  },
  {
   "cell_type": "code",
   "execution_count": 10,
   "metadata": {},
   "outputs": [
    {
     "data": {
      "text/plain": [
       "Index(['Date', 'AveragePrice', 'Total Volume', '4046', '4225', '4770',\n",
       "       'Total Bags', 'Small Bags', 'Large Bags', 'XLarge Bags', 'type', 'year',\n",
       "       'region'],\n",
       "      dtype='object')"
      ]
     },
     "execution_count": 10,
     "metadata": {},
     "output_type": "execute_result"
    }
   ],
   "source": [
    "df.columns"
   ]
  },
  {
   "cell_type": "code",
   "execution_count": 11,
   "metadata": {},
   "outputs": [
    {
     "data": {
      "text/plain": [
       "Date             object\n",
       "AveragePrice    float64\n",
       "Total Volume    float64\n",
       "4046            float64\n",
       "4225            float64\n",
       "4770            float64\n",
       "Total Bags      float64\n",
       "Small Bags      float64\n",
       "Large Bags      float64\n",
       "XLarge Bags     float64\n",
       "type             object\n",
       "year              int64\n",
       "region           object\n",
       "dtype: object"
      ]
     },
     "execution_count": 11,
     "metadata": {},
     "output_type": "execute_result"
    }
   ],
   "source": [
    "df.dtypes"
   ]
  },
  {
   "cell_type": "markdown",
   "metadata": {},
   "source": [
    "As we can see from the above that our data contains 18249 rows and 13 columns after dropping the extra index column.\n",
    "Also we have checked the data types of the columns and found that most of the columns are of same data type i.e float and date,type and region are in object data type."
   ]
  },
  {
   "cell_type": "markdown",
   "metadata": {},
   "source": [
    "Now further we will check the null values in the dataset using heatmap."
   ]
  },
  {
   "cell_type": "code",
   "execution_count": 12,
   "metadata": {},
   "outputs": [
    {
     "data": {
      "text/plain": [
       "<AxesSubplot:>"
      ]
     },
     "execution_count": 12,
     "metadata": {},
     "output_type": "execute_result"
    },
    {
     "data": {
      "image/png": "[encoded data removed]",
      "text/plain": [
       "<Figure size 432x288 with 2 Axes>"
      ]
     },
     "metadata": {
      "needs_background": "light"
     },
     "output_type": "display_data"
    }
   ],
   "source": [
    "sns.heatmap(df.isnull())"
   ]
  },
  {
   "cell_type": "markdown",
   "metadata": {},
   "source": [
    "From this heat map we can clearly see that there is no ull values in our data as the red colour is evenly distribute."
   ]
  },
  {
   "cell_type": "markdown",
   "metadata": {},
   "source": [
    "Now we will check the mean of price at ecah year of organic type of avocado."
   ]
  },
  {
   "cell_type": "code",
   "execution_count": 13,
   "metadata": {},
   "outputs": [
    {
     "data": {
      "text/plain": [
       "year\n",
       "2015    1.375590\n",
       "2016    1.338640\n",
       "2017    1.515128\n",
       "2018    1.347531\n",
       "Name: AveragePrice, dtype: float64"
      ]
     },
     "execution_count": 13,
     "metadata": {},
     "output_type": "execute_result"
    }
   ],
   "source": [
    "df.groupby('year')['AveragePrice'].mean()"
   ]
  },
  {
   "cell_type": "markdown",
   "metadata": {},
   "source": [
    "Now we will find how much type of avocado is sell in last 4 years."
   ]
  },
  {
   "cell_type": "code",
   "execution_count": 14,
   "metadata": {},
   "outputs": [
    {
     "data": {
      "text/plain": [
       "year  type        \n",
       "2015  conventional    2808\n",
       "      organic         2807\n",
       "2016  conventional    2808\n",
       "      organic         2808\n",
       "2017  conventional    2862\n",
       "      organic         2860\n",
       "2018  conventional     648\n",
       "      organic          648\n",
       "Name: type, dtype: int64"
      ]
     },
     "execution_count": 14,
     "metadata": {},
     "output_type": "execute_result"
    }
   ],
   "source": [
    "df.groupby('year')['type'].value_counts()"
   ]
  },
  {
   "cell_type": "markdown",
   "metadata": {},
   "source": [
    "From above we can see that the year 2017 have the highest price and 2015 has the second highest number."
   ]
  },
  {
   "cell_type": "code",
   "execution_count": 15,
   "metadata": {},
   "outputs": [
    {
     "data": {
      "text/html": [
       "<div>\n",
       "<style scoped>\n",
       "    .dataframe tbody tr th:only-of-type {\n",
       "        vertical-align: middle;\n",
       "    }\n",
       "\n",
       "    .dataframe tbody tr th {\n",
       "        vertical-align: top;\n",
       "    }\n",
       "\n",
       "    .dataframe thead th {\n",
       "        text-align: right;\n",
       "    }\n",
       "</style>\n",
       "<table border=\"1\" class=\"dataframe\">\n",
       "  <thead>\n",
       "    <tr style=\"text-align: right;\">\n",
       "      <th></th>\n",
       "      <th>AveragePrice</th>\n",
       "      <th>Total Volume</th>\n",
       "      <th>4046</th>\n",
       "      <th>4225</th>\n",
       "      <th>4770</th>\n",
       "      <th>Total Bags</th>\n",
       "      <th>Small Bags</th>\n",
       "      <th>Large Bags</th>\n",
       "      <th>XLarge Bags</th>\n",
       "      <th>year</th>\n",
       "    </tr>\n",
       "  </thead>\n",
       "  <tbody>\n",
       "    <tr>\n",
       "      <th>count</th>\n",
       "      <td>18249.000000</td>\n",
       "      <td>1.824900e+04</td>\n",
       "      <td>1.824900e+04</td>\n",
       "      <td>1.824900e+04</td>\n",
       "      <td>1.824900e+04</td>\n",
       "      <td>1.824900e+04</td>\n",
       "      <td>1.824900e+04</td>\n",
       "      <td>1.824900e+04</td>\n",
       "      <td>18249.000000</td>\n",
       "      <td>18249.000000</td>\n",
       "    </tr>\n",
       "    <tr>\n",
       "      <th>mean</th>\n",
       "      <td>1.405978</td>\n",
       "      <td>8.506440e+05</td>\n",
       "      <td>2.930084e+05</td>\n",
       "      <td>2.951546e+05</td>\n",
       "      <td>2.283974e+04</td>\n",
       "      <td>2.396392e+05</td>\n",
       "      <td>1.821947e+05</td>\n",
       "      <td>5.433809e+04</td>\n",
       "      <td>3106.426507</td>\n",
       "      <td>2016.147899</td>\n",
       "    </tr>\n",
       "    <tr>\n",
       "      <th>std</th>\n",
       "      <td>0.402677</td>\n",
       "      <td>3.453545e+06</td>\n",
       "      <td>1.264989e+06</td>\n",
       "      <td>1.204120e+06</td>\n",
       "      <td>1.074641e+05</td>\n",
       "      <td>9.862424e+05</td>\n",
       "      <td>7.461785e+05</td>\n",
       "      <td>2.439660e+05</td>\n",
       "      <td>17692.894652</td>\n",
       "      <td>0.939938</td>\n",
       "    </tr>\n",
       "    <tr>\n",
       "      <th>min</th>\n",
       "      <td>0.440000</td>\n",
       "      <td>8.456000e+01</td>\n",
       "      <td>0.000000e+00</td>\n",
       "      <td>0.000000e+00</td>\n",
       "      <td>0.000000e+00</td>\n",
       "      <td>0.000000e+00</td>\n",
       "      <td>0.000000e+00</td>\n",
       "      <td>0.000000e+00</td>\n",
       "      <td>0.000000</td>\n",
       "      <td>2015.000000</td>\n",
       "    </tr>\n",
       "    <tr>\n",
       "      <th>25%</th>\n",
       "      <td>1.100000</td>\n",
       "      <td>1.083858e+04</td>\n",
       "      <td>8.540700e+02</td>\n",
       "      <td>3.008780e+03</td>\n",
       "      <td>0.000000e+00</td>\n",
       "      <td>5.088640e+03</td>\n",
       "      <td>2.849420e+03</td>\n",
       "      <td>1.274700e+02</td>\n",
       "      <td>0.000000</td>\n",
       "      <td>2015.000000</td>\n",
       "    </tr>\n",
       "    <tr>\n",
       "      <th>50%</th>\n",
       "      <td>1.370000</td>\n",
       "      <td>1.073768e+05</td>\n",
       "      <td>8.645300e+03</td>\n",
       "      <td>2.906102e+04</td>\n",
       "      <td>1.849900e+02</td>\n",
       "      <td>3.974383e+04</td>\n",
       "      <td>2.636282e+04</td>\n",
       "      <td>2.647710e+03</td>\n",
       "      <td>0.000000</td>\n",
       "      <td>2016.000000</td>\n",
       "    </tr>\n",
       "    <tr>\n",
       "      <th>75%</th>\n",
       "      <td>1.660000</td>\n",
       "      <td>4.329623e+05</td>\n",
       "      <td>1.110202e+05</td>\n",
       "      <td>1.502069e+05</td>\n",
       "      <td>6.243420e+03</td>\n",
       "      <td>1.107834e+05</td>\n",
       "      <td>8.333767e+04</td>\n",
       "      <td>2.202925e+04</td>\n",
       "      <td>132.500000</td>\n",
       "      <td>2017.000000</td>\n",
       "    </tr>\n",
       "    <tr>\n",
       "      <th>max</th>\n",
       "      <td>3.250000</td>\n",
       "      <td>6.250565e+07</td>\n",
       "      <td>2.274362e+07</td>\n",
       "      <td>2.047057e+07</td>\n",
       "      <td>2.546439e+06</td>\n",
       "      <td>1.937313e+07</td>\n",
       "      <td>1.338459e+07</td>\n",
       "      <td>5.719097e+06</td>\n",
       "      <td>551693.650000</td>\n",
       "      <td>2018.000000</td>\n",
       "    </tr>\n",
       "  </tbody>\n",
       "</table>\n",
       "</div>"
      ],
      "text/plain": [
       "       AveragePrice  Total Volume          4046          4225          4770  \\\n",
       "count  18249.000000  1.824900e+04  1.824900e+04  1.824900e+04  1.824900e+04   \n",
       "mean       1.405978  8.506440e+05  2.930084e+05  2.951546e+05  2.283974e+04   \n",
       "std        0.402677  3.453545e+06  1.264989e+06  1.204120e+06  1.074641e+05   \n",
       "min        0.440000  8.456000e+01  0.000000e+00  0.000000e+00  0.000000e+00   \n",
       "25%        1.100000  1.083858e+04  8.540700e+02  3.008780e+03  0.000000e+00   \n",
       "50%        1.370000  1.073768e+05  8.645300e+03  2.906102e+04  1.849900e+02   \n",
       "75%        1.660000  4.329623e+05  1.110202e+05  1.502069e+05  6.243420e+03   \n",
       "max        3.250000  6.250565e+07  2.274362e+07  2.047057e+07  2.546439e+06   \n",
       "\n",
       "         Total Bags    Small Bags    Large Bags    XLarge Bags          year  \n",
       "count  1.824900e+04  1.824900e+04  1.824900e+04   18249.000000  18249.000000  \n",
       "mean   2.396392e+05  1.821947e+05  5.433809e+04    3106.426507   2016.147899  \n",
       "std    9.862424e+05  7.461785e+05  2.439660e+05   17692.894652      0.939938  \n",
       "min    0.000000e+00  0.000000e+00  0.000000e+00       0.000000   2015.000000  \n",
       "25%    5.088640e+03  2.849420e+03  1.274700e+02       0.000000   2015.000000  \n",
       "50%    3.974383e+04  2.636282e+04  2.647710e+03       0.000000   2016.000000  \n",
       "75%    1.107834e+05  8.333767e+04  2.202925e+04     132.500000   2017.000000  \n",
       "max    1.937313e+07  1.338459e+07  5.719097e+06  551693.650000   2018.000000  "
      ]
     },
     "execution_count": 15,
     "metadata": {},
     "output_type": "execute_result"
    }
   ],
   "source": [
    "df.describe()"
   ]
  },
  {
   "cell_type": "markdown",
   "metadata": {},
   "source": [
    "Above statistics shows that there can be outliers present in data and there is difference between mean and 50% value in some of the column which is used to get fix for better prediction."
   ]
  },
  {
   "cell_type": "markdown",
   "metadata": {},
   "source": [
    "The numbers of rows in each column  are same that means there are no null values in the dataset."
   ]
  },
  {
   "cell_type": "markdown",
   "metadata": {},
   "source": [
    "The mean and 50% value is mot=st of the column are same and the std mean are very close to each other.\n",
    "Most of the column data are near to 0.\n",
    "By checking difference between th 75% and the max value it is seen that there are outliers in some of the column."
   ]
  },
  {
   "cell_type": "markdown",
   "metadata": {},
   "source": [
    "Now we will visualize the data."
   ]
  },
  {
   "cell_type": "markdown",
   "metadata": {},
   "source": [
    "Firstly we will check the ratio of year and price that which year had max average price."
   ]
  },
  {
   "cell_type": "code",
   "execution_count": 16,
   "metadata": {},
   "outputs": [
    {
     "data": {
      "text/plain": [
       "<AxesSubplot:xlabel='year', ylabel='AveragePrice'>"
      ]
     },
     "execution_count": 16,
     "metadata": {},
     "output_type": "execute_result"
    },
    {
     "data": {
      "image/png": "[encoded data removed]",
      "text/plain": [
       "<Figure size 432x288 with 1 Axes>"
      ]
     },
     "metadata": {
      "needs_background": "light"
     },
     "output_type": "display_data"
    }
   ],
   "source": [
    "sns.barplot(x = \"year\" , y = \"AveragePrice\", data = df)"
   ]
  },
  {
   "cell_type": "markdown",
   "metadata": {},
   "source": [
    "Above graph shows that 2017 is the year where max price is seen. "
   ]
  },
  {
   "cell_type": "markdown",
   "metadata": {},
   "source": [
    "Now we will check the ratio of month and price that which year had max average price."
   ]
  },
  {
   "cell_type": "markdown",
   "metadata": {},
   "source": [
    "Now we will check the skewness of the data using histogram."
   ]
  },
  {
   "cell_type": "code",
   "execution_count": 17,
   "metadata": {},
   "outputs": [
    {
     "data": {
      "text/plain": [
       "array([[<AxesSubplot:title={'center':'AveragePrice'}>,\n",
       "        <AxesSubplot:title={'center':'Total Volume'}>,\n",
       "        <AxesSubplot:title={'center':'4046'}>,\n",
       "        <AxesSubplot:title={'center':'4225'}>],\n",
       "       [<AxesSubplot:title={'center':'4770'}>,\n",
       "        <AxesSubplot:title={'center':'Total Bags'}>,\n",
       "        <AxesSubplot:title={'center':'Small Bags'}>,\n",
       "        <AxesSubplot:title={'center':'Large Bags'}>],\n",
       "       [<AxesSubplot:title={'center':'XLarge Bags'}>,\n",
       "        <AxesSubplot:title={'center':'year'}>, <AxesSubplot:>,\n",
       "        <AxesSubplot:>],\n",
       "       [<AxesSubplot:>, <AxesSubplot:>, <AxesSubplot:>, <AxesSubplot:>]],\n",
       "      dtype=object)"
      ]
     },
     "execution_count": 17,
     "metadata": {},
     "output_type": "execute_result"
    },
    {
     "data": {
      "image/png": "[encoded data removed]",
      "text/plain": [
       "<Figure size 1440x1440 with 16 Axes>"
      ]
     },
     "metadata": {
      "needs_background": "light"
     },
     "output_type": "display_data"
    }
   ],
   "source": [
    "df.hist(figsize = (20,20) , grid = True, layout = (4,4), bins = 30)"
   ]
  },
  {
   "cell_type": "markdown",
   "metadata": {},
   "source": [
    "From above it is seen that the AveragePrice column is normally distributed and rest of the data does not much varies in terms of number so it is left skewed data."
   ]
  },
  {
   "cell_type": "code",
   "execution_count": 18,
   "metadata": {},
   "outputs": [
    {
     "data": {
      "text/plain": [
       "AveragePrice     0.580303\n",
       "Total Volume     9.007687\n",
       "4046             8.648220\n",
       "4225             8.942466\n",
       "4770            10.159396\n",
       "Total Bags       9.756072\n",
       "Small Bags       9.540660\n",
       "Large Bags       9.796455\n",
       "XLarge Bags     13.139751\n",
       "year             0.215339\n",
       "dtype: float64"
      ]
     },
     "execution_count": 18,
     "metadata": {},
     "output_type": "execute_result"
    }
   ],
   "source": [
    "df.skew()"
   ]
  },
  {
   "cell_type": "markdown",
   "metadata": {},
   "source": [
    "Now we will make the skew less than or equal to 0.55 for better prediction and plottim=ng Normal Distribution."
   ]
  },
  {
   "cell_type": "code",
   "execution_count": 19,
   "metadata": {},
   "outputs": [],
   "source": [
    "skew = (\"Total Volume\",\"4046\",\"4225\",\"4770\",\"Total Bags\",\"Small Bags\",\"Large Bags\",\"XLarge Bags\")\n",
    "for col in skew :\n",
    "    if df.skew().loc[col]>0.55:\n",
    "        df[col] = np.log1p(df[col])"
   ]
  },
  {
   "cell_type": "markdown",
   "metadata": {},
   "source": [
    "Now we will check the outliers for each column."
   ]
  },
  {
   "cell_type": "code",
   "execution_count": 20,
   "metadata": {},
   "outputs": [
    {
     "data": {
      "text/plain": [
       "AveragePrice        AxesSubplot(0.125,0.71587;0.133621x0.16413)\n",
       "Total Volume     AxesSubplot(0.285345,0.71587;0.133621x0.16413)\n",
       "4046              AxesSubplot(0.44569,0.71587;0.133621x0.16413)\n",
       "4225             AxesSubplot(0.606034,0.71587;0.133621x0.16413)\n",
       "4770             AxesSubplot(0.766379,0.71587;0.133621x0.16413)\n",
       "Total Bags         AxesSubplot(0.125,0.518913;0.133621x0.16413)\n",
       "Small Bags      AxesSubplot(0.285345,0.518913;0.133621x0.16413)\n",
       "Large Bags       AxesSubplot(0.44569,0.518913;0.133621x0.16413)\n",
       "XLarge Bags     AxesSubplot(0.606034,0.518913;0.133621x0.16413)\n",
       "year            AxesSubplot(0.766379,0.518913;0.133621x0.16413)\n",
       "dtype: object"
      ]
     },
     "execution_count": 20,
     "metadata": {},
     "output_type": "execute_result"
    },
    {
     "data": {
      "image/png": "[encoded data removed]",
      "text/plain": [
       "<Figure size 1080x720 with 20 Axes>"
      ]
     },
     "metadata": {
      "needs_background": "light"
     },
     "output_type": "display_data"
    }
   ],
   "source": [
    "df.plot(kind = \"box\", subplots =  True, layout = (4,5), figsize = (15,10))"
   ]
  },
  {
   "cell_type": "markdown",
   "metadata": {},
   "source": [
    "As we can see from above ome columns contains outliers so we will try to remove it now."
   ]
  },
  {
   "cell_type": "markdown",
   "metadata": {},
   "source": [
    "Firstly we will covert region and type to numerical values using LabelEncoder."
   ]
  },
  {
   "cell_type": "code",
   "execution_count": 21,
   "metadata": {},
   "outputs": [],
   "source": [
    "cols = [\"type\", \"region\"]\n",
    "df[cols] = df[cols].apply(LabelEncoder().fit_transform)"
   ]
  },
  {
   "cell_type": "code",
   "execution_count": 22,
   "metadata": {},
   "outputs": [
    {
     "data": {
      "text/html": [
       "<div>\n",
       "<style scoped>\n",
       "    .dataframe tbody tr th:only-of-type {\n",
       "        vertical-align: middle;\n",
       "    }\n",
       "\n",
       "    .dataframe tbody tr th {\n",
       "        vertical-align: top;\n",
       "    }\n",
       "\n",
       "    .dataframe thead th {\n",
       "        text-align: right;\n",
       "    }\n",
       "</style>\n",
       "<table border=\"1\" class=\"dataframe\">\n",
       "  <thead>\n",
       "    <tr style=\"text-align: right;\">\n",
       "      <th></th>\n",
       "      <th>Date</th>\n",
       "      <th>AveragePrice</th>\n",
       "      <th>Total Volume</th>\n",
       "      <th>4046</th>\n",
       "      <th>4225</th>\n",
       "      <th>4770</th>\n",
       "      <th>Total Bags</th>\n",
       "      <th>Small Bags</th>\n",
       "      <th>Large Bags</th>\n",
       "      <th>XLarge Bags</th>\n",
       "      <th>type</th>\n",
       "      <th>year</th>\n",
       "      <th>region</th>\n",
       "    </tr>\n",
       "  </thead>\n",
       "  <tbody>\n",
       "    <tr>\n",
       "      <th>0</th>\n",
       "      <td>2015-12-27</td>\n",
       "      <td>1.33</td>\n",
       "      <td>11.070344</td>\n",
       "      <td>6.944801</td>\n",
       "      <td>10.905146</td>\n",
       "      <td>3.895080</td>\n",
       "      <td>9.070833</td>\n",
       "      <td>9.060055</td>\n",
       "      <td>4.545951</td>\n",
       "      <td>0.0</td>\n",
       "      <td>0</td>\n",
       "      <td>2015</td>\n",
       "      <td>0</td>\n",
       "    </tr>\n",
       "    <tr>\n",
       "      <th>1</th>\n",
       "      <td>2015-12-20</td>\n",
       "      <td>1.35</td>\n",
       "      <td>10.912867</td>\n",
       "      <td>6.515127</td>\n",
       "      <td>10.706381</td>\n",
       "      <td>4.083115</td>\n",
       "      <td>9.159737</td>\n",
       "      <td>9.149429</td>\n",
       "      <td>4.589955</td>\n",
       "      <td>0.0</td>\n",
       "      <td>0</td>\n",
       "      <td>2015</td>\n",
       "      <td>0</td>\n",
       "    </tr>\n",
       "    <tr>\n",
       "      <th>2</th>\n",
       "      <td>2015-12-13</td>\n",
       "      <td>0.93</td>\n",
       "      <td>11.680313</td>\n",
       "      <td>6.679222</td>\n",
       "      <td>11.600485</td>\n",
       "      <td>4.879007</td>\n",
       "      <td>9.005325</td>\n",
       "      <td>8.992584</td>\n",
       "      <td>4.645736</td>\n",
       "      <td>0.0</td>\n",
       "      <td>0</td>\n",
       "      <td>2015</td>\n",
       "      <td>0</td>\n",
       "    </tr>\n",
       "    <tr>\n",
       "      <th>3</th>\n",
       "      <td>2015-12-06</td>\n",
       "      <td>1.08</td>\n",
       "      <td>11.277116</td>\n",
       "      <td>7.032624</td>\n",
       "      <td>11.184108</td>\n",
       "      <td>4.298373</td>\n",
       "      <td>8.667708</td>\n",
       "      <td>8.644425</td>\n",
       "      <td>4.903495</td>\n",
       "      <td>0.0</td>\n",
       "      <td>0</td>\n",
       "      <td>2015</td>\n",
       "      <td>0</td>\n",
       "    </tr>\n",
       "    <tr>\n",
       "      <th>4</th>\n",
       "      <td>2015-11-29</td>\n",
       "      <td>1.28</td>\n",
       "      <td>10.840377</td>\n",
       "      <td>6.848515</td>\n",
       "      <td>10.688288</td>\n",
       "      <td>4.340944</td>\n",
       "      <td>8.729874</td>\n",
       "      <td>8.697389</td>\n",
       "      <td>5.291746</td>\n",
       "      <td>0.0</td>\n",
       "      <td>0</td>\n",
       "      <td>2015</td>\n",
       "      <td>0</td>\n",
       "    </tr>\n",
       "  </tbody>\n",
       "</table>\n",
       "</div>"
      ],
      "text/plain": [
       "         Date  AveragePrice  Total Volume      4046       4225      4770  \\\n",
       "0  2015-12-27          1.33     11.070344  6.944801  10.905146  3.895080   \n",
       "1  2015-12-20          1.35     10.912867  6.515127  10.706381  4.083115   \n",
       "2  2015-12-13          0.93     11.680313  6.679222  11.600485  4.879007   \n",
       "3  2015-12-06          1.08     11.277116  7.032624  11.184108  4.298373   \n",
       "4  2015-11-29          1.28     10.840377  6.848515  10.688288  4.340944   \n",
       "\n",
       "   Total Bags  Small Bags  Large Bags  XLarge Bags  type  year  region  \n",
       "0    9.070833    9.060055    4.545951          0.0     0  2015       0  \n",
       "1    9.159737    9.149429    4.589955          0.0     0  2015       0  \n",
       "2    9.005325    8.992584    4.645736          0.0     0  2015       0  \n",
       "3    8.667708    8.644425    4.903495          0.0     0  2015       0  \n",
       "4    8.729874    8.697389    5.291746          0.0     0  2015       0  "
      ]
     },
     "execution_count": 22,
     "metadata": {},
     "output_type": "execute_result"
    }
   ],
   "source": [
    "df.head()"
   ]
  },
  {
   "cell_type": "code",
   "execution_count": 23,
   "metadata": {},
   "outputs": [
    {
     "data": {
      "text/plain": [
       "(18249, 13)"
      ]
     },
     "execution_count": 23,
     "metadata": {},
     "output_type": "execute_result"
    }
   ],
   "source": [
    "df.shape"
   ]
  },
  {
   "cell_type": "markdown",
   "metadata": {},
   "source": [
    "Now we will check the correlation of all column to each other."
   ]
  },
  {
   "cell_type": "code",
   "execution_count": 24,
   "metadata": {},
   "outputs": [
    {
     "data": {
      "text/plain": [
       "[]"
      ]
     },
     "execution_count": 24,
     "metadata": {},
     "output_type": "execute_result"
    },
    {
     "data": {
      "image/png": "[encoded data removed]",
      "text/plain": [
       "<Figure size 2160x1800 with 2 Axes>"
      ]
     },
     "metadata": {
      "needs_background": "light"
     },
     "output_type": "display_data"
    }
   ],
   "source": [
    "df_cor = df.corr()\n",
    "plt.figure(figsize = (30,25))\n",
    "sns.heatmap(df_cor,annot = True)\n",
    "plt.plot()"
   ]
  },
  {
   "cell_type": "code",
   "execution_count": 25,
   "metadata": {},
   "outputs": [],
   "source": [
    "X = df.drop(['AveragePrice','Date'], axis=1)\n",
    "Y = df[\"AveragePrice\"]\n",
    "\n",
    "X_train, X_test, Y_train, Y_test = train_test_split(X, Y, random_state=50, test_size=0.2)"
   ]
  },
  {
   "cell_type": "markdown",
   "metadata": {},
   "source": [
    "Above we had spilt the data into x ad y variable and we are using standard scaling method on x variable."
   ]
  },
  {
   "cell_type": "code",
   "execution_count": 26,
   "metadata": {},
   "outputs": [],
   "source": [
    "from sklearn.preprocessing import StandardScaler\n",
    "sc=StandardScaler()\n",
    "X_train=sc.fit_transform(X_train)\n",
    "X_test=sc.transform(X_test)"
   ]
  },
  {
   "cell_type": "markdown",
   "metadata": {},
   "source": [
    " Now by using multiple algorithms we are calculating the best algorithm which suits best for our dataset."
   ]
  },
  {
   "cell_type": "code",
   "execution_count": 28,
   "metadata": {},
   "outputs": [
    {
     "name": "stdout",
     "output_type": "stream",
     "text": [
      "R2 score correspond to random state 40 is 0.6626142481319557\n",
      "R2 score correspond to random state 40 is 0.8111440983023015\n",
      "R2 score correspond to random state 40 is 0.5101284520637176\n",
      "R2 score correspond to random state 40 is 0.4721052852003692\n",
      "R2 score correspond to random state 40 is 0.668479461755801\n",
      "R2 score correspond to random state 41 is 0.6615164013384807\n",
      "R2 score correspond to random state 41 is 0.8166424232785432\n",
      "R2 score correspond to random state 41 is 0.5227706240016441\n",
      "R2 score correspond to random state 41 is 0.4867799717207497\n",
      "R2 score correspond to random state 41 is 0.6858896224032223\n",
      "R2 score correspond to random state 42 is 0.677128101722118\n",
      "R2 score correspond to random state 42 is 0.8244853372696468\n",
      "R2 score correspond to random state 42 is 0.5077795952573679\n",
      "R2 score correspond to random state 42 is 0.44508547700463397\n",
      "R2 score correspond to random state 42 is 0.6726899116262466\n",
      "R2 score correspond to random state 43 is 0.6677007850141323\n",
      "R2 score correspond to random state 43 is 0.8119106867572838\n",
      "R2 score correspond to random state 43 is 0.5257583276585126\n",
      "R2 score correspond to random state 43 is 0.4756478619249388\n",
      "R2 score correspond to random state 43 is 0.6778326180081492\n",
      "R2 score correspond to random state 44 is 0.674085508381915\n",
      "R2 score correspond to random state 44 is 0.8144887214511778\n",
      "R2 score correspond to random state 44 is 0.5119083123156372\n",
      "R2 score correspond to random state 44 is 0.47446213787314695\n",
      "R2 score correspond to random state 44 is 0.6711874613521833\n",
      "R2 score correspond to random state 45 is 0.6617962540814695\n",
      "R2 score correspond to random state 45 is 0.8183263839613277\n",
      "R2 score correspond to random state 45 is 0.5128166179124212\n",
      "R2 score correspond to random state 45 is 0.4532447123848754\n",
      "R2 score correspond to random state 45 is 0.6747409209264974\n",
      "R2 score correspond to random state 46 is 0.6655464649428469\n",
      "R2 score correspond to random state 46 is 0.8116524346402599\n",
      "R2 score correspond to random state 46 is 0.5187069521285056\n",
      "R2 score correspond to random state 46 is 0.4580432616640451\n",
      "R2 score correspond to random state 46 is 0.6715498581552604\n",
      "R2 score correspond to random state 47 is 0.6671118246598706\n",
      "R2 score correspond to random state 47 is 0.820781026014582\n",
      "R2 score correspond to random state 47 is 0.5183395443081618\n",
      "R2 score correspond to random state 47 is 0.47459785676914157\n",
      "R2 score correspond to random state 47 is 0.6791798489082382\n",
      "R2 score correspond to random state 48 is 0.6713983707286049\n",
      "R2 score correspond to random state 48 is 0.8201984057662284\n",
      "R2 score correspond to random state 48 is 0.5295751991454616\n",
      "R2 score correspond to random state 48 is 0.4876775895725918\n",
      "R2 score correspond to random state 48 is 0.6886911939079273\n",
      "R2 score correspond to random state 49 is 0.6785605783801243\n",
      "R2 score correspond to random state 49 is 0.8144131031049479\n",
      "R2 score correspond to random state 49 is 0.5270953075939545\n",
      "R2 score correspond to random state 49 is 0.47203815999333676\n",
      "R2 score correspond to random state 49 is 0.6892167020867683\n",
      "R2 score correspond to random state 50 is 0.6787932913240967\n",
      "R2 score correspond to random state 50 is 0.8184410572282864\n",
      "R2 score correspond to random state 50 is 0.5283544638560055\n",
      "R2 score correspond to random state 50 is 0.4785537296458261\n",
      "R2 score correspond to random state 50 is 0.6876901030147402\n",
      "R2 score correspond to random state 51 is 0.6708246842380468\n",
      "R2 score correspond to random state 51 is 0.8197880553000072\n",
      "R2 score correspond to random state 51 is 0.5357422558652369\n",
      "R2 score correspond to random state 51 is 0.49736162127934647\n",
      "R2 score correspond to random state 51 is 0.6937360654024038\n",
      "R2 score correspond to random state 52 is 0.6433776026459717\n",
      "R2 score correspond to random state 52 is 0.8166882233374602\n",
      "R2 score correspond to random state 52 is 0.5203025431755003\n",
      "R2 score correspond to random state 52 is 0.48008519793655013\n",
      "R2 score correspond to random state 52 is 0.677950172334002\n",
      "R2 score correspond to random state 53 is 0.6508246066309713\n",
      "R2 score correspond to random state 53 is 0.8174305253011285\n",
      "R2 score correspond to random state 53 is 0.5180050075256826\n",
      "R2 score correspond to random state 53 is 0.4994654379914413\n",
      "R2 score correspond to random state 53 is 0.6751303018008094\n",
      "R2 score correspond to random state 54 is 0.682322271963495\n",
      "R2 score correspond to random state 54 is 0.8167716064883817\n",
      "R2 score correspond to random state 54 is 0.5146277231670229\n",
      "R2 score correspond to random state 54 is 0.4881323703788131\n",
      "R2 score correspond to random state 54 is 0.6792240622952543\n",
      "R2 score correspond to random state 55 is 0.6632702162444588\n",
      "R2 score correspond to random state 55 is 0.8183389214102009\n",
      "R2 score correspond to random state 55 is 0.521140393699745\n",
      "R2 score correspond to random state 55 is 0.5008222002463739\n",
      "R2 score correspond to random state 55 is 0.6749765519292048\n",
      "R2 score correspond to random state 56 is 0.6680377061225415\n",
      "R2 score correspond to random state 56 is 0.8196839790341959\n",
      "R2 score correspond to random state 56 is 0.5237119631483402\n",
      "R2 score correspond to random state 56 is 0.4636986908378199\n",
      "R2 score correspond to random state 56 is 0.6843481050354696\n",
      "R2 score correspond to random state 57 is 0.6607329239484785\n",
      "R2 score correspond to random state 57 is 0.8123502276542921\n",
      "R2 score correspond to random state 57 is 0.5233121176864313\n",
      "R2 score correspond to random state 57 is 0.4893532737699201\n",
      "R2 score correspond to random state 57 is 0.677683865257479\n",
      "R2 score correspond to random state 58 is 0.6938138377032799\n",
      "R2 score correspond to random state 58 is 0.8163054277723505\n",
      "R2 score correspond to random state 58 is 0.5133685080843974\n",
      "R2 score correspond to random state 58 is 0.4811182633788651\n",
      "R2 score correspond to random state 58 is 0.6728453628246843\n",
      "R2 score correspond to random state 59 is 0.6682014489737902\n",
      "R2 score correspond to random state 59 is 0.8075474933147193\n",
      "R2 score correspond to random state 59 is 0.5111929118926759\n",
      "R2 score correspond to random state 59 is 0.4782741299382639\n",
      "R2 score correspond to random state 59 is 0.6712417736547107\n",
      "R2 score correspond to random state 60 is 0.6763771266455751\n",
      "R2 score correspond to random state 60 is 0.8255027965732417\n",
      "R2 score correspond to random state 60 is 0.5209770751511609\n",
      "R2 score correspond to random state 60 is 0.4869014637038689\n",
      "R2 score correspond to random state 60 is 0.6808743968607294\n",
      "R2 score correspond to random state 61 is 0.6727249468394427\n",
      "R2 score correspond to random state 61 is 0.812857155932917\n",
      "R2 score correspond to random state 61 is 0.5196854182335322\n",
      "R2 score correspond to random state 61 is 0.4394516976840157\n",
      "R2 score correspond to random state 61 is 0.6691371586800614\n",
      "R2 score correspond to random state 62 is 0.6542742971289475\n",
      "R2 score correspond to random state 62 is 0.8207188129488621\n",
      "R2 score correspond to random state 62 is 0.5272358897178677\n",
      "R2 score correspond to random state 62 is 0.4805940312046728\n",
      "R2 score correspond to random state 62 is 0.6820060046035323\n",
      "R2 score correspond to random state 63 is 0.655727472110637\n",
      "R2 score correspond to random state 63 is 0.8177824492274577\n",
      "R2 score correspond to random state 63 is 0.5232782121110577\n",
      "R2 score correspond to random state 63 is 0.49575157840906736\n",
      "R2 score correspond to random state 63 is 0.6794107592357703\n",
      "R2 score correspond to random state 64 is 0.6795533665337565\n",
      "R2 score correspond to random state 64 is 0.8257611702571146\n",
      "R2 score correspond to random state 64 is 0.5233146840013978\n",
      "R2 score correspond to random state 64 is 0.4869563850801252\n",
      "R2 score correspond to random state 64 is 0.6803774786262424\n",
      "R2 score correspond to random state 65 is 0.6528173530769648\n",
      "R2 score correspond to random state 65 is 0.8094269148551014\n",
      "R2 score correspond to random state 65 is 0.5211988276187759\n",
      "R2 score correspond to random state 65 is 0.46911835110807565\n",
      "R2 score correspond to random state 65 is 0.6785404130598256\n",
      "R2 score correspond to random state 66 is 0.6871852683009941\n",
      "R2 score correspond to random state 66 is 0.8268525857345241\n",
      "R2 score correspond to random state 66 is 0.5293653495115089\n",
      "R2 score correspond to random state 66 is 0.4791873470859047\n",
      "R2 score correspond to random state 66 is 0.6857974716077591\n",
      "R2 score correspond to random state 67 is 0.6565677764955113\n",
      "R2 score correspond to random state 67 is 0.8035879244983455\n",
      "R2 score correspond to random state 67 is 0.5107267897292707\n",
      "R2 score correspond to random state 67 is 0.4666932554496611\n",
      "R2 score correspond to random state 67 is 0.6689399238792286\n",
      "R2 score correspond to random state 68 is 0.6785903822682409\n",
      "R2 score correspond to random state 68 is 0.8230428707668309\n",
      "R2 score correspond to random state 68 is 0.5232075051442002\n",
      "R2 score correspond to random state 68 is 0.4582425866252222\n",
      "R2 score correspond to random state 68 is 0.6764045912973786\n",
      "R2 score correspond to random state 69 is 0.6617883557790141\n",
      "R2 score correspond to random state 69 is 0.8175689272817384\n",
      "R2 score correspond to random state 69 is 0.5276108210111943\n",
      "R2 score correspond to random state 69 is 0.49867709641685287\n",
      "R2 score correspond to random state 69 is 0.6855987206171994\n",
      "R2 score correspond to random state 70 is 0.6625709668557165\n",
      "R2 score correspond to random state 70 is 0.8103684332431424\n",
      "R2 score correspond to random state 70 is 0.5228952413196764\n",
      "R2 score correspond to random state 70 is 0.45967971674754604\n",
      "R2 score correspond to random state 70 is 0.6765100705742453\n",
      "R2 score correspond to random state 71 is 0.6787998946253253\n",
      "R2 score correspond to random state 71 is 0.8179973320248491\n",
      "R2 score correspond to random state 71 is 0.5188518701337685\n",
      "R2 score correspond to random state 71 is 0.48445891238182937\n",
      "R2 score correspond to random state 71 is 0.6753541010015327\n",
      "R2 score correspond to random state 72 is 0.679312488414094\n",
      "R2 score correspond to random state 72 is 0.8184351798890999\n",
      "R2 score correspond to random state 72 is 0.5074136873311037\n",
      "R2 score correspond to random state 72 is 0.47152402179106856\n",
      "R2 score correspond to random state 72 is 0.6640926019594704\n",
      "R2 score correspond to random state 73 is 0.6715728874103982\n",
      "R2 score correspond to random state 73 is 0.809145862094041\n",
      "R2 score correspond to random state 73 is 0.5122192860719252\n",
      "R2 score correspond to random state 73 is 0.47529559248061537\n",
      "R2 score correspond to random state 73 is 0.6728899769257697\n",
      "R2 score correspond to random state 74 is 0.664804986166524\n",
      "R2 score correspond to random state 74 is 0.8211837777371881\n",
      "R2 score correspond to random state 74 is 0.5202234077191177\n",
      "R2 score correspond to random state 74 is 0.4817600675875442\n",
      "R2 score correspond to random state 74 is 0.6835994463468521\n",
      "R2 score correspond to random state 75 is 0.6398290233152472\n",
      "R2 score correspond to random state 75 is 0.8123954956462242\n",
      "R2 score correspond to random state 75 is 0.5127223311391835\n",
      "R2 score correspond to random state 75 is 0.4884483516223739\n",
      "R2 score correspond to random state 75 is 0.6741470769067439\n",
      "R2 score correspond to random state 76 is 0.6882324284321125\n",
      "R2 score correspond to random state 76 is 0.8137182235906012\n",
      "R2 score correspond to random state 76 is 0.5261637367160503\n",
      "R2 score correspond to random state 76 is 0.4778738090601735\n",
      "R2 score correspond to random state 76 is 0.6850488503957692\n",
      "R2 score correspond to random state 77 is 0.6804113299711582\n",
      "R2 score correspond to random state 77 is 0.8344350711420767\n",
      "R2 score correspond to random state 77 is 0.5294247483510941\n",
      "R2 score correspond to random state 77 is 0.47838788809330113\n",
      "R2 score correspond to random state 77 is 0.6833755538954276\n",
      "R2 score correspond to random state 78 is 0.6661788602129035\n",
      "R2 score correspond to random state 78 is 0.8264038514757996\n",
      "R2 score correspond to random state 78 is 0.5319522129465541\n",
      "R2 score correspond to random state 78 is 0.49434199778718557\n",
      "R2 score correspond to random state 78 is 0.6877881937129182\n",
      "R2 score correspond to random state 79 is 0.6603721230058534\n",
      "R2 score correspond to random state 79 is 0.8282712217273362\n",
      "R2 score correspond to random state 79 is 0.524965465701011\n",
      "R2 score correspond to random state 79 is 0.4718675632605539\n",
      "R2 score correspond to random state 79 is 0.6897594217417816\n",
      "R2 score correspond to random state 80 is 0.6623247951297423\n",
      "R2 score correspond to random state 80 is 0.8147650662925878\n",
      "R2 score correspond to random state 80 is 0.5080510094491077\n",
      "R2 score correspond to random state 80 is 0.45240811533005754\n",
      "R2 score correspond to random state 80 is 0.6660405888763649\n",
      "R2 score correspond to random state 81 is 0.6734930734661482\n",
      "R2 score correspond to random state 81 is 0.8142216951940939\n",
      "R2 score correspond to random state 81 is 0.5273803349179602\n",
      "R2 score correspond to random state 81 is 0.4674204278196188\n",
      "R2 score correspond to random state 81 is 0.6830206146631073\n",
      "R2 score correspond to random state 82 is 0.6526352312925623\n",
      "R2 score correspond to random state 82 is 0.8160894881577887\n",
      "R2 score correspond to random state 82 is 0.5222462023432347\n",
      "R2 score correspond to random state 82 is 0.49086038840377\n",
      "R2 score correspond to random state 82 is 0.676798269396001\n",
      "R2 score correspond to random state 83 is 0.6702635884878123\n",
      "R2 score correspond to random state 83 is 0.8119819835164017\n",
      "R2 score correspond to random state 83 is 0.5186166600560531\n",
      "R2 score correspond to random state 83 is 0.4947030654093937\n",
      "R2 score correspond to random state 83 is 0.6769263453995742\n",
      "R2 score correspond to random state 84 is 0.6769401321806618\n",
      "R2 score correspond to random state 84 is 0.8118805384479346\n",
      "R2 score correspond to random state 84 is 0.5163049203308592\n",
      "R2 score correspond to random state 84 is 0.4757064969481981\n",
      "R2 score correspond to random state 84 is 0.6770240393801588\n",
      "R2 score correspond to random state 85 is 0.6875979636419498\n",
      "R2 score correspond to random state 85 is 0.8217490073554162\n",
      "R2 score correspond to random state 85 is 0.5194456960754741\n",
      "R2 score correspond to random state 85 is 0.4715426547898218\n",
      "R2 score correspond to random state 85 is 0.6820586711724141\n",
      "R2 score correspond to random state 86 is 0.6869003324322118\n",
      "R2 score correspond to random state 86 is 0.8130412239822981\n",
      "R2 score correspond to random state 86 is 0.5243752606951901\n",
      "R2 score correspond to random state 86 is 0.5028754375576272\n",
      "R2 score correspond to random state 86 is 0.6810897432864204\n",
      "R2 score correspond to random state 87 is 0.6755573287698766\n",
      "R2 score correspond to random state 87 is 0.8244776575614461\n",
      "R2 score correspond to random state 87 is 0.5299237701777617\n",
      "R2 score correspond to random state 87 is 0.48184349007176785\n",
      "R2 score correspond to random state 87 is 0.6824916827519584\n",
      "R2 score correspond to random state 88 is 0.6863811492532196\n",
      "R2 score correspond to random state 88 is 0.8163646738420165\n",
      "R2 score correspond to random state 88 is 0.5274977429524323\n",
      "R2 score correspond to random state 88 is 0.49360561881126575\n",
      "R2 score correspond to random state 88 is 0.6863021031403956\n",
      "R2 score correspond to random state 89 is 0.6615158592643858\n",
      "R2 score correspond to random state 89 is 0.8100922309154326\n",
      "R2 score correspond to random state 89 is 0.5154010237528079\n",
      "R2 score correspond to random state 89 is 0.4855581758533697\n",
      "R2 score correspond to random state 89 is 0.6752479656986041\n",
      "\n",
      "\n",
      "\n",
      "\n",
      "max R2 score correspond to random state  77 is 0.8344350711420767 and model is KNeighborsRegressor()\n"
     ]
    }
   ],
   "source": [
    "from sklearn.tree import DecisionTreeRegressor\n",
    "from sklearn.neighbors import KNeighborsRegressor\n",
    "from sklearn.ensemble import AdaBoostRegressor, GradientBoostingRegressor\n",
    "from sklearn.linear_model import LinearRegression\n",
    "from sklearn.metrics import r2_score\n",
    "\n",
    "model = [DecisionTreeRegressor(), KNeighborsRegressor(), LinearRegression(), AdaBoostRegressor(), GradientBoostingRegressor()]\n",
    "max_r2_score = 0\n",
    "for r_state in range(40,90):\n",
    "    X_train, X_test, Y_train, Y_test = train_test_split(X, Y, random_state=r_state, test_size=0.33)\n",
    "    for i in model:\n",
    "        i.fit(X_train,Y_train)\n",
    "        pre = i.predict(X_test)\n",
    "        r2_sc = r2_score(Y_test,pre)\n",
    "        print(\"R2 score correspond to random state\", r_state, \"is\",r2_sc)\n",
    "        if r2_sc > max_r2_score:\n",
    "            max_r2_score = r2_sc\n",
    "            final_state = r_state\n",
    "            final_model = i\n",
    "            \n",
    "print()\n",
    "print()\n",
    "print() \n",
    "print()\n",
    "print(\"max R2 score correspond to random state \",final_state, \"is\", max_r2_score, \"and model is\", final_model)"
   ]
  },
  {
   "cell_type": "markdown",
   "metadata": {},
   "source": [
    "Now checking best parameter for prediction of KNeighborsRegressor algorithm using GridSearchCV"
   ]
  },
  {
   "cell_type": "code",
   "execution_count": 29,
   "metadata": {},
   "outputs": [
    {
     "data": {
      "text/plain": [
       "{'n_neighbors': 3}"
      ]
     },
     "execution_count": 29,
     "metadata": {},
     "output_type": "execute_result"
    }
   ],
   "source": [
    "from sklearn.model_selection import GridSearchCV\n",
    "X_train, X_test, Y_train, Y_test = train_test_split(X, Y, random_state=77, test_size=0.33)\n",
    "KN = KNeighborsRegressor()\n",
    "parameters = {'n_neighbors' : range(1,30)}\n",
    "gridsearch = GridSearchCV(KN,parameters)\n",
    "gridsearch.fit(X_train,Y_train)\n",
    "gridsearch.best_params_"
   ]
  },
  {
   "cell_type": "code",
   "execution_count": 30,
   "metadata": {},
   "outputs": [
    {
     "name": "stdout",
     "output_type": "stream",
     "text": [
      "R2 Score :  83.78645022019589\n"
     ]
    }
   ],
   "source": [
    "KNN = KNeighborsRegressor(n_neighbors=3)\n",
    "KNN.fit(X_train,Y_train)\n",
    "pred = KNN.predict(X_test)\n",
    "r2_sc = r2_score(Y_test,pred)\n",
    "print(\"R2 Score : \",r2_sc*100)"
   ]
  },
  {
   "cell_type": "code",
   "execution_count": 31,
   "metadata": {},
   "outputs": [
    {
     "name": "stdout",
     "output_type": "stream",
     "text": [
      "Mean Absolute Error :  0.1142265759034811\n",
      "Mean Squared Error :  0.026525747597173795\n",
      "Root Mean Absolute Error :  0.33797422372642727\n"
     ]
    }
   ],
   "source": [
    "from sklearn.metrics import mean_absolute_error,mean_squared_error\n",
    "print(\"Mean Absolute Error : \",mean_absolute_error(Y_test,pred))\n",
    "print(\"Mean Squared Error : \",mean_squared_error(Y_test,pred))\n",
    "print(\"Root Mean Absolute Error : \",np.sqrt(mean_absolute_error(Y_test,pred)))"
   ]
  },
  {
   "cell_type": "markdown",
   "metadata": {},
   "source": [
    "Now we will check the difference between predicted and actual value using graph."
   ]
  },
  {
   "cell_type": "code",
   "execution_count": 32,
   "metadata": {},
   "outputs": [
    {
     "data": {
      "text/plain": [
       "Text(0, 0.5, 'Predicted_Y')"
      ]
     },
     "execution_count": 32,
     "metadata": {},
     "output_type": "execute_result"
    },
    {
     "data": {
      "image/png": "[encoded data removed]",
      "text/plain": [
       "<Figure size 432x288 with 1 Axes>"
      ]
     },
     "metadata": {
      "needs_background": "light"
     },
     "output_type": "display_data"
    }
   ],
   "source": [
    "plt.scatter(x=Y_test,y=pred)\n",
    "plt.xlabel('Y_test')\n",
    "plt.ylabel('Predicted_Y')"
   ]
  },
  {
   "cell_type": "markdown",
   "metadata": {},
   "source": [
    "Above we have done the prediction using average price as the output variable so we used regression technique as the data is in continuity.\n",
    "While calculating the best random state the 77 is the best state which is providing us the highest R2 score value for this model.\n",
    "After using GridSearchCV, we find the best params and we used that params for model amd found that the best model is KNNeighboursRegressor.\n",
    "We found the matrices that provides the best score.\n",
    "We plot the scatter plot as well to see the actual value and predicted values are very close to each other."
   ]
  },
  {
   "cell_type": "markdown",
   "metadata": {},
   "source": [
    "Now we will predict the value using region as output variable.\n",
    "Here we will use the classification models as the data is categorical in nature."
   ]
  },
  {
   "cell_type": "code",
   "execution_count": 33,
   "metadata": {},
   "outputs": [],
   "source": [
    "from sklearn.metrics import accuracy_score,classification_report,confusion_matrix,roc_auc_score,roc_curve\n",
    "from sklearn.linear_model import LogisticRegression\n",
    "from sklearn.naive_bayes import MultinomialNB\n",
    "from sklearn.neighbors import KNeighborsClassifier\n",
    "from sklearn.svm import SVC\n",
    "from sklearn.tree import DecisionTreeClassifier\n",
    "from sklearn.ensemble import AdaBoostClassifier, GradientBoostingClassifier"
   ]
  },
  {
   "cell_type": "code",
   "execution_count": 35,
   "metadata": {},
   "outputs": [
    {
     "name": "stdout",
     "output_type": "stream",
     "text": [
      "(18249, 11)\n",
      "(18249, 1)\n"
     ]
    }
   ],
   "source": [
    "#assign the values of x and y for training and testing phase\n",
    "x_c = df.drop(columns = ['region','Date'])\n",
    "y_c = df[[\"region\"]]\n",
    "print(x_c.shape)\n",
    "print(y_c.shape)"
   ]
  },
  {
   "cell_type": "code",
   "execution_count": 36,
   "metadata": {},
   "outputs": [],
   "source": [
    "#Standardizing the value of x as to ake the data as normal distributed\n",
    "sc = StandardScaler()\n",
    "sc.fit_transform(x_c)\n",
    "x_c = pd.DataFrame(x_c , columns = x_c.columns)"
   ]
  },
  {
   "cell_type": "markdown",
   "metadata": {},
   "source": [
    "Now we are taking region as output variableand try to prediction using classification method."
   ]
  },
  {
   "cell_type": "code",
   "execution_count": 39,
   "metadata": {},
   "outputs": [
    {
     "name": "stdout",
     "output_type": "stream",
     "text": [
      "accuracy_score correspond to random state 40 is 0.7869832309480326\n",
      "accuracy_score correspond to random state 40 is 0.8440976257678897\n",
      "accuracy_score correspond to random state 41 is 0.7793458409430516\n",
      "accuracy_score correspond to random state 41 is 0.8379545077204051\n",
      "accuracy_score correspond to random state 42 is 0.78797941225303\n",
      "accuracy_score correspond to random state 42 is 0.841607172505396\n",
      "accuracy_score correspond to random state 43 is 0.7811721733355471\n",
      "accuracy_score correspond to random state 43 is 0.8369583264154076\n",
      "accuracy_score correspond to random state 44 is 0.782002324423045\n",
      "accuracy_score correspond to random state 44 is 0.8429354142453926\n",
      "accuracy_score correspond to random state 45 is 0.7921301676905197\n",
      "accuracy_score correspond to random state 45 is 0.8434335048978914\n",
      "accuracy_score correspond to random state 46 is 0.7836626265980409\n",
      "accuracy_score correspond to random state 46 is 0.8462560185953844\n",
      "accuracy_score correspond to random state 47 is 0.790801925950523\n",
      "accuracy_score correspond to random state 47 is 0.8421052631578947\n",
      "accuracy_score correspond to random state 48 is 0.7849908683380376\n",
      "accuracy_score correspond to random state 48 is 0.8460899883778847\n",
      "accuracy_score correspond to random state 49 is 0.7891416237755271\n",
      "accuracy_score correspond to random state 49 is 0.8372903868504068\n",
      "accuracy_score correspond to random state 50 is 0.7932923792130168\n",
      "accuracy_score correspond to random state 50 is 0.8437655653328906\n",
      "accuracy_score correspond to random state 51 is 0.8034202224804915\n",
      "accuracy_score correspond to random state 51 is 0.8440976257678897\n",
      "accuracy_score correspond to random state 52 is 0.7886435331230284\n",
      "accuracy_score correspond to random state 52 is 0.838784658807903\n",
      "accuracy_score correspond to random state 53 is 0.7841607172505396\n",
      "accuracy_score correspond to random state 53 is 0.852399136642869\n",
      "accuracy_score correspond to random state 54 is 0.7991034368255022\n",
      "accuracy_score correspond to random state 54 is 0.8477502905528806\n",
      "accuracy_score correspond to random state 55 is 0.7904698655155238\n",
      "accuracy_score correspond to random state 55 is 0.8411090818528972\n",
      "accuracy_score correspond to random state 56 is 0.7878133820355304\n",
      "accuracy_score correspond to random state 56 is 0.8381205379379048\n",
      "accuracy_score correspond to random state 57 is 0.7942885605180143\n",
      "accuracy_score correspond to random state 57 is 0.8426033538103935\n",
      "accuracy_score correspond to random state 58 is 0.7871492611655321\n",
      "accuracy_score correspond to random state 58 is 0.8437655653328906\n",
      "accuracy_score correspond to random state 59 is 0.7924622281255188\n",
      "accuracy_score correspond to random state 59 is 0.8374564170679064\n",
      "accuracy_score correspond to random state 60 is 0.786817200730533\n",
      "accuracy_score correspond to random state 60 is 0.8454258675078864\n",
      "accuracy_score correspond to random state 61 is 0.7805080524655488\n",
      "accuracy_score correspond to random state 61 is 0.8406109912003985\n",
      "accuracy_score correspond to random state 62 is 0.7942885605180143\n",
      "accuracy_score correspond to random state 62 is 0.8402789307653993\n",
      "accuracy_score correspond to random state 63 is 0.7931263489955171\n",
      "accuracy_score correspond to random state 63 is 0.8490785322928773\n",
      "accuracy_score correspond to random state 64 is 0.8002656483479993\n",
      "accuracy_score correspond to random state 64 is 0.8477502905528806\n",
      "accuracy_score correspond to random state 65 is 0.7901378050805247\n",
      "accuracy_score correspond to random state 65 is 0.8460899883778847\n",
      "accuracy_score correspond to random state 66 is 0.7966129835630085\n",
      "accuracy_score correspond to random state 66 is 0.8439315955503902\n",
      "accuracy_score correspond to random state 67 is 0.7836626265980409\n",
      "accuracy_score correspond to random state 67 is 0.8402789307653993\n",
      "accuracy_score correspond to random state 68 is 0.7846588079030383\n",
      "accuracy_score correspond to random state 68 is 0.8389506890254026\n",
      "accuracy_score correspond to random state 69 is 0.7911339863855221\n",
      "accuracy_score correspond to random state 69 is 0.8442636559853893\n",
      "accuracy_score correspond to random state 70 is 0.7844927776855388\n",
      "accuracy_score correspond to random state 70 is 0.8499086833803752\n",
      "accuracy_score correspond to random state 71 is 0.801593890087996\n",
      "accuracy_score correspond to random state 71 is 0.848414411422879\n",
      "accuracy_score correspond to random state 72 is 0.7849908683380376\n",
      "accuracy_score correspond to random state 72 is 0.8449277768553877\n",
      "accuracy_score correspond to random state 73 is 0.7866511705130333\n",
      "accuracy_score correspond to random state 73 is 0.8432674746803919\n",
      "accuracy_score correspond to random state 74 is 0.7901378050805247\n",
      "accuracy_score correspond to random state 74 is 0.8399468703304002\n",
      "accuracy_score correspond to random state 75 is 0.785987049643035\n",
      "accuracy_score correspond to random state 75 is 0.8421052631578947\n",
      "accuracy_score correspond to random state 76 is 0.7810061431180475\n",
      "accuracy_score correspond to random state 76 is 0.8349659638054125\n",
      "accuracy_score correspond to random state 77 is 0.7811721733355471\n",
      "accuracy_score correspond to random state 77 is 0.8426033538103935\n",
      "accuracy_score correspond to random state 78 is 0.7876473518180309\n",
      "accuracy_score correspond to random state 78 is 0.8500747135978748\n",
      "accuracy_score correspond to random state 79 is 0.7886435331230284\n",
      "accuracy_score correspond to random state 79 is 0.8352980242404118\n",
      "accuracy_score correspond to random state 80 is 0.793624439648016\n",
      "accuracy_score correspond to random state 80 is 0.8434335048978914\n",
      "accuracy_score correspond to random state 81 is 0.7836626265980409\n",
      "accuracy_score correspond to random state 81 is 0.8449277768553877\n",
      "accuracy_score correspond to random state 82 is 0.7884775029055288\n",
      "accuracy_score correspond to random state 82 is 0.8480823509878798\n",
      "accuracy_score correspond to random state 83 is 0.78797941225303\n",
      "accuracy_score correspond to random state 83 is 0.8515689855553711\n",
      "accuracy_score correspond to random state 84 is 0.793624439648016\n",
      "accuracy_score correspond to random state 84 is 0.8502407438153744\n",
      "accuracy_score correspond to random state 85 is 0.785987049643035\n",
      "accuracy_score correspond to random state 85 is 0.8440976257678897\n",
      "accuracy_score correspond to random state 86 is 0.7864851402955337\n",
      "accuracy_score correspond to random state 86 is 0.8374564170679064\n",
      "accuracy_score correspond to random state 87 is 0.788809563340528\n",
      "accuracy_score correspond to random state 87 is 0.8477502905528806\n",
      "accuracy_score correspond to random state 88 is 0.7903038352980243\n",
      "accuracy_score correspond to random state 88 is 0.8470861696828823\n",
      "accuracy_score correspond to random state 89 is 0.7893076539930267\n",
      "accuracy_score correspond to random state 89 is 0.8469201394653827\n",
      "\n",
      "\n",
      "\n",
      "\n",
      "max accuracy score correspond to random state  53 is 0.852399136642869 and model is KNeighborsClassifier()\n"
     ]
    }
   ],
   "source": [
    "model = [DecisionTreeClassifier(),KNeighborsClassifier()]\n",
    "max_accuracy_score = 0\n",
    "for r_state in range(40,90):\n",
    "    xc_train,xc_test,yc_train,yc_test = train_test_split(x_c,y_c,random_state = r_state,test_size = 0.33)\n",
    "    for i_c in model:\n",
    "        i_c.fit(xc_train,yc_train)\n",
    "        pre_c = i_c.predict(xc_test)\n",
    "        ac_score = accuracy_score(yc_test,pre_c)\n",
    "        print(\"accuracy_score correspond to random state\" ,r_state,\"is\",ac_score)\n",
    "        if ac_score > max_accuracy_score:\n",
    "            max_accuracy_score = ac_score\n",
    "            final_state = r_state\n",
    "            final_model = i_c\n",
    "            \n",
    "print()\n",
    "print()\n",
    "print()\n",
    "print()\n",
    "print(\"max accuracy score correspond to random state \",final_state , \"is\" , max_accuracy_score, \"and model is\",final_model)"
   ]
  },
  {
   "cell_type": "markdown",
   "metadata": {},
   "source": [
    "As we get the best model and accuracy score now we will find the best params."
   ]
  },
  {
   "cell_type": "code",
   "execution_count": 40,
   "metadata": {},
   "outputs": [
    {
     "data": {
      "text/plain": [
       "{'n_neighbors': 1}"
      ]
     },
     "execution_count": 40,
     "metadata": {},
     "output_type": "execute_result"
    }
   ],
   "source": [
    "#checking the best parameters for predictions of the best model\n",
    "from sklearn.model_selection import GridSearchCV\n",
    "xc_train,xc_test,yc_train,yc_test = train_test_split(x_c,y_c,random_state = 53, test_size = 0.33)\n",
    "KNC = KNeighborsClassifier()\n",
    "parameters = {'n_neighbors': range(1,30)}\n",
    "gridsearch = GridSearchCV(KNC,parameters)\n",
    "gridsearch.fit(xc_train,yc_train)\n",
    "gridsearch.best_params_"
   ]
  },
  {
   "cell_type": "code",
   "execution_count": 41,
   "metadata": {},
   "outputs": [
    {
     "name": "stdout",
     "output_type": "stream",
     "text": [
      "Accuracy Score :  87.09945210028225\n"
     ]
    }
   ],
   "source": [
    "KNC = KNeighborsClassifier(n_neighbors = 1)\n",
    "KNC.fit(xc_train,yc_train)\n",
    "predc = KNC.predict(xc_test)\n",
    "acu_score = accuracy_score(yc_test,predc)\n",
    "print(\"Accuracy Score : \",acu_score*100)"
   ]
  },
  {
   "cell_type": "code",
   "execution_count": 42,
   "metadata": {},
   "outputs": [
    {
     "name": "stdout",
     "output_type": "stream",
     "text": [
      "Cross_val_score :  85.47967333213236\n",
      "Mean Score :  85.47967333213236\n",
      "STD score :  0.0\n"
     ]
    }
   ],
   "source": [
    "#calculating the scores of different parameters\n",
    "score = cross_val_score(KNC,x_c,y_c,cv = 100,scoring='accuracy').mean()\n",
    "print(\"Cross_val_score : \",score*100)\n",
    "print(\"Mean Score : \",score.mean()*100)\n",
    "print(\"STD score : \",score.std())"
   ]
  },
  {
   "cell_type": "markdown",
   "metadata": {},
   "source": [
    "Above we found that our best classification model is KNeighborsClassifier and the best random state is 53 which is giving the best accuracy score of 85%.\n",
    "Also by using the gridsearchcv we findthe best params and the best accuracy score of 87%."
   ]
  },
  {
   "cell_type": "markdown",
   "metadata": {},
   "source": [
    "Now we will plot the roc curve."
   ]
  },
  {
   "cell_type": "code",
   "execution_count": 43,
   "metadata": {},
   "outputs": [
    {
     "data": {
      "text/plain": [
       "array([0., 0., 0., ..., 0., 0., 0.])"
      ]
     },
     "execution_count": 43,
     "metadata": {},
     "output_type": "execute_result"
    }
   ],
   "source": [
    "pred_prob = KNC.predict_proba(xc_test)[:,1]\n",
    "pred_prob"
   ]
  },
  {
   "cell_type": "code",
   "execution_count": 44,
   "metadata": {},
   "outputs": [],
   "source": [
    "fpr,tpr,thresholds = roc_curve(yc_test,pred_prob,pos_label = True)"
   ]
  },
  {
   "cell_type": "code",
   "execution_count": 45,
   "metadata": {},
   "outputs": [
    {
     "name": "stdout",
     "output_type": "stream",
     "text": [
      "[0.        0.0055715 1.       ]\n",
      "\n",
      "\n",
      "[0.   0.84 1.  ]\n",
      "\n",
      "\n",
      "[2. 1. 0.]\n"
     ]
    }
   ],
   "source": [
    "print(fpr)\n",
    "print(\"\\n\")\n",
    "print(tpr)\n",
    "print(\"\\n\")\n",
    "print(thresholds)"
   ]
  },
  {
   "cell_type": "markdown",
   "metadata": {},
   "source": [
    "Now as we find the values we will plota graph that will show us about the area under curve(auc), i.e more area under curve more will be the better prediction."
   ]
  },
  {
   "cell_type": "code",
   "execution_count": 47,
   "metadata": {},
   "outputs": [
    {
     "data": {
      "image/png": "[encoded data removed]",
      "text/plain": [
       "<Figure size 432x288 with 1 Axes>"
      ]
     },
     "metadata": {
      "needs_background": "light"
     },
     "output_type": "display_data"
    }
   ],
   "source": [
    "plt.plot([0,1],[1,0],'k--')\n",
    "plt.plot(fpr,tpr,label = \"KNNeighborsClassifier\")\n",
    "plt.xlabel(\"False positive rate\")\n",
    "plt.ylabel(\"True positive rate\")\n",
    "plt.title(\"KNNeighborsClassifer\")\n",
    "plt.show()"
   ]
  },
  {
   "cell_type": "markdown",
   "metadata": {},
   "source": [
    "From the above all we have observed that region as a output variable is predicting well for this model as compare to average price.\n",
    "Also Accuracy Score is greater than R2 score.\n",
    "There are no much outliers in the dataset after replacing with mean value.\n",
    "As organic type of avocado is having more price per unit then conventional.\n",
    "So we have done prediction using region and price but the prediction score for region is high as compared to average price."
   ]
  },
  {
   "cell_type": "markdown",
   "metadata": {},
   "source": [
    "Now we will save the model:-"
   ]
  },
  {
   "cell_type": "code",
   "execution_count": 48,
   "metadata": {},
   "outputs": [
    {
     "data": {
      "text/plain": [
       "['AvocadoPrice']"
      ]
     },
     "execution_count": 48,
     "metadata": {},
     "output_type": "execute_result"
    }
   ],
   "source": [
    "import joblib\n",
    "joblib.dump(predc,\"AvocadoPrice\")"
   ]
  }
 ],
 "metadata": {
  "kernelspec": {
   "display_name": "Python 3",
   "language": "python",
   "name": "python3"
  },
  "language_info": {
   "codemirror_mode": {
    "name": "ipython",
    "version": 3
   },
   "file_extension": ".py",
   "mimetype": "text/x-python",
   "name": "python",
   "nbconvert_exporter": "python",
   "pygments_lexer": "ipython3",
   "version": "3.8.5"
  }
 },
 "nbformat": 4,
 "nbformat_minor": 4
}
